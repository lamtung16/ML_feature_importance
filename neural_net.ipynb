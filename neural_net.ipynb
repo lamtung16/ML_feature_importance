{
 "cells": [
  {
   "cell_type": "code",
   "execution_count": 1,
   "metadata": {},
   "outputs": [],
   "source": [
    "import torch\n",
    "import torch.nn as nn\n",
    "import torch.optim as optim\n",
    "import pandas as pd\n",
    "import numpy as np\n",
    "import matplotlib.pyplot as plt"
   ]
  },
  {
   "cell_type": "code",
   "execution_count": 2,
   "metadata": {},
   "outputs": [],
   "source": [
    "# Create your dataset\n",
    "np.random.seed(42)\n",
    "x1 = np.random.rand(100)\n",
    "x2 = np.random.rand(100)\n",
    "x3 = np.random.rand(100)\n",
    "x4 = np.random.rand(100)\n",
    "noise = np.random.rand(100)\n",
    "y = x1 + x2**2 + x3*x4\n",
    "\n",
    "# Create a DataFrame\n",
    "data = pd.DataFrame({'x1': x1, 'x2': x2, 'x3': x3, 'x4': x4, 'noise': noise, 'y': y})\n",
    "\n",
    "# Convert the data to torch tensors\n",
    "X = torch.tensor(data[['x1', 'x2', 'x3', 'x4', 'noise']].values, dtype=torch.float32)\n",
    "Y = torch.tensor(data['y'].values, dtype=torch.float32).unsqueeze(1)  # unsqueeze to add a dimension for the output"
   ]
  },
  {
   "cell_type": "code",
   "execution_count": 3,
   "metadata": {},
   "outputs": [],
   "source": [
    "# number of features\n",
    "nof = 5\n",
    "# Define the neural network model\n",
    "class SimpleNN(nn.Module):\n",
    "    def __init__(self):\n",
    "        super(SimpleNN, self).__init__()\n",
    "        self.fc1 = nn.Linear(nof, nof)\n",
    "        self.fc2 = nn.Linear(nof, 1)\n",
    "\n",
    "    def forward(self, x):\n",
    "        x = torch.relu(self.fc1(x))\n",
    "        x = self.fc2(x)\n",
    "        return x"
   ]
  },
  {
   "cell_type": "code",
   "execution_count": 4,
   "metadata": {},
   "outputs": [],
   "source": [
    "# Initialize the model\n",
    "model = SimpleNN()"
   ]
  },
  {
   "cell_type": "code",
   "execution_count": 5,
   "metadata": {},
   "outputs": [],
   "source": [
    "# Define loss and optimizer\n",
    "criterion = nn.MSELoss()\n",
    "optimizer = optim.Adam(model.parameters(), lr=0.001)\n",
    "\n",
    "# Train the model\n",
    "epochs = 100000\n",
    "for epoch in range(epochs):\n",
    "    model.train()\n",
    "\n",
    "    # Forward pass\n",
    "    outputs = model(X)\n",
    "    loss = criterion(outputs, Y)\n",
    "\n",
    "    # Backward pass and optimization\n",
    "    optimizer.zero_grad()\n",
    "    loss.backward()\n",
    "    optimizer.step()"
   ]
  },
  {
   "cell_type": "code",
   "execution_count": 6,
   "metadata": {},
   "outputs": [
    {
     "name": "stdout",
     "output_type": "stream",
     "text": [
      "Feature Importance:\n",
      "x1: 0.4839\n",
      "x2: 0.4842\n",
      "x3: 0.3234\n",
      "x4: 0.3123\n",
      "noise: 0.1552\n"
     ]
    }
   ],
   "source": [
    "# Get the model's weights\n",
    "weights = model.fc1.weight.data.numpy()\n",
    "\n",
    "# Analyze the weights to infer feature importance\n",
    "feature_importance = np.abs(weights).mean(axis=0)\n",
    "\n",
    "# Print feature importance\n",
    "print(\"Feature Importance:\")\n",
    "print(f\"x1: {feature_importance[0]:.4f}\")\n",
    "print(f\"x2: {feature_importance[1]:.4f}\")\n",
    "print(f\"x3: {feature_importance[2]:.4f}\")\n",
    "print(f\"x4: {feature_importance[3]:.4f}\")\n",
    "print(f\"noise: {feature_importance[4]:.4f}\")"
   ]
  },
  {
   "cell_type": "code",
   "execution_count": 7,
   "metadata": {},
   "outputs": [
    {
     "data": {
      "image/png": "[encoded data removed]",
      "text/plain": [
       "<Figure size 800x600 with 1 Axes>"
      ]
     },
     "metadata": {},
     "output_type": "display_data"
    }
   ],
   "source": [
    "plt.figure(figsize=(8, 6))\n",
    "plt.bar(data.columns[:-1], feature_importance)\n",
    "plt.xlabel(\"Feature\")\n",
    "plt.ylabel(\"Importance\")\n",
    "plt.title(\"Neural Net\")\n",
    "plt.savefig(\"figs/neural_net.png\", format='png')\n",
    "plt.show()"
   ]
  }
 ],
 "metadata": {
  "kernelspec": {
   "display_name": "Python 3",
   "language": "python",
   "name": "python3"
  },
  "language_info": {
   "codemirror_mode": {
    "name": "ipython",
    "version": 3
   },
   "file_extension": ".py",
   "mimetype": "text/x-python",
   "name": "python",
   "nbconvert_exporter": "python",
   "pygments_lexer": "ipython3",
   "version": "3.11.9"
  }
 },
 "nbformat": 4,
 "nbformat_minor": 2
}
