{
 "cells": [
  {
   "cell_type": "code",
   "execution_count": 1,
   "metadata": {},
   "outputs": [],
   "source": [
    "import numpy as np\n",
    "import pandas as pd\n",
    "import torch\n",
    "import torch.nn as nn\n",
    "import torch.optim as optim\n",
    "import matplotlib.pyplot as plt"
   ]
  },
  {
   "cell_type": "code",
   "execution_count": 2,
   "metadata": {},
   "outputs": [],
   "source": [
    "np.random.seed(42)\n",
    "x1 = np.random.rand(100)\n",
    "x2 = np.random.rand(100)\n",
    "x3 = np.random.rand(100)\n",
    "x4 = np.random.rand(100)\n",
    "noise = np.random.rand(100)\n",
    "y = x1 + x2**2 + x3*x4\n",
    "\n",
    "# Create a DataFrame\n",
    "data = pd.DataFrame({'x1': x1, 'x2': x2, 'x3': x3, 'x4': x4, 'noise': noise, 'y': y})\n",
    "\n",
    "# Convert the data to torch tensors\n",
    "X = torch.tensor(data[['x1', 'x2', 'x3', 'x4', 'noise']].values, dtype=torch.float32)\n",
    "Y = torch.tensor(data['y'].values, dtype=torch.float32).unsqueeze(1)\n",
    "\n",
    "# Z-score Normalization (mean=0, std=1)\n",
    "X_mean = X.mean(dim=0, keepdim=True)  # Find the mean of each feature\n",
    "X_std = X.std(dim=0, keepdim=True)    # Find the standard deviation of each feature\n",
    "X = (X - X_mean) / X_std  # Standardize each feature"
   ]
  },
  {
   "cell_type": "code",
   "execution_count": 3,
   "metadata": {},
   "outputs": [],
   "source": [
    "# Define the MLP model\n",
    "class CustomMLP(nn.Module):\n",
    "    def __init__(self):\n",
    "        super(CustomMLP, self).__init__()\n",
    "        # Prefirst layer (no bias)\n",
    "        self.linear1 = nn.Linear(1, 1, bias=True)  # for x1\n",
    "        self.linear2 = nn.Linear(1, 1, bias=True)  # for x2\n",
    "        self.linear3 = nn.Linear(1, 1, bias=True)  # for x3\n",
    "        self.linear4 = nn.Linear(1, 1, bias=True)  # for x4\n",
    "        self.linear5 = nn.Linear(1, 1, bias=True)  # for noise\n",
    "        \n",
    "        # MLP layers\n",
    "        self.fc1 = nn.Linear(5, 16)  # Combine z1 to z5 into MLP\n",
    "        self.fc2 = nn.Linear(16, 1)\n",
    "\n",
    "        self.relu = nn.ReLU()\n",
    "\n",
    "    def forward(self, x):\n",
    "        # Extract individual features\n",
    "        x1 = x[:, 0:1]\n",
    "        x2 = x[:, 1:2]\n",
    "        x3 = x[:, 2:3]\n",
    "        x4 = x[:, 3:4]\n",
    "        noise = x[:, 4:5]\n",
    "\n",
    "        # Apply prefirst layer transformations\n",
    "        z1 = self.relu(self.linear1(x1))\n",
    "        z2 = self.relu(self.linear2(x2))\n",
    "        z3 = self.relu(self.linear3(x3))\n",
    "        z4 = self.relu(self.linear4(x4))\n",
    "        z5 = self.relu(self.linear5(noise))\n",
    "\n",
    "        # Concatenate z1 to z5\n",
    "        z = torch.cat([z1, z2, z3, z4, z5], dim=1)\n",
    "\n",
    "        # MLP layers\n",
    "        z = self.relu(self.fc1(z))\n",
    "        output = self.fc2(z)\n",
    "\n",
    "        return output"
   ]
  },
  {
   "cell_type": "code",
   "execution_count": 4,
   "metadata": {},
   "outputs": [
    {
     "name": "stdout",
     "output_type": "stream",
     "text": [
      "Epoch [1000/10000], Loss: 0.03237724\n",
      "Epoch [2000/10000], Loss: 0.02834761\n",
      "Epoch [3000/10000], Loss: 0.02741917\n",
      "Epoch [4000/10000], Loss: 0.02719337\n",
      "Epoch [5000/10000], Loss: 0.02637348\n",
      "Epoch [6000/10000], Loss: 0.02547269\n",
      "Epoch [7000/10000], Loss: 0.02398791\n",
      "Epoch [8000/10000], Loss: 0.02365959\n",
      "Epoch [9000/10000], Loss: 0.02346912\n",
      "Epoch [10000/10000], Loss: 0.02340605\n"
     ]
    }
   ],
   "source": [
    "# Instantiate the model\n",
    "model = CustomMLP()\n",
    "\n",
    "# Loss function and optimizer\n",
    "criterion = nn.MSELoss()\n",
    "optimizer = optim.Adam(model.parameters(), lr=0.001)\n",
    "\n",
    "# Training loop\n",
    "def train(model, criterion, optimizer, X, Y, epochs=10000):\n",
    "    model.train()\n",
    "    for epoch in range(epochs):\n",
    "        # Forward pass\n",
    "        outputs = model(X)\n",
    "        loss = criterion(outputs, Y)\n",
    "        \n",
    "        # Backward pass and optimization\n",
    "        optimizer.zero_grad()\n",
    "        loss.backward()\n",
    "        optimizer.step()\n",
    "        \n",
    "        if (epoch+1) % 1000 == 0:\n",
    "            print(f'Epoch [{epoch+1}/{epochs}], Loss: {loss.item():.8f}')\n",
    "\n",
    "# Train the model\n",
    "train(model, criterion, optimizer, X, Y)"
   ]
  },
  {
   "cell_type": "code",
   "execution_count": 5,
   "metadata": {},
   "outputs": [],
   "source": [
    "w1 = model.linear1.weight.item()\n",
    "w2 = model.linear2.weight.item()\n",
    "w3 = model.linear3.weight.item()\n",
    "w4 = model.linear4.weight.item()\n",
    "w5 = model.linear5.weight.item()\n",
    "\n",
    "# Create a vector of the parameters\n",
    "param_vector = torch.tensor([w1, w2, w3, w4, w5]).numpy()"
   ]
  },
  {
   "cell_type": "code",
   "execution_count": 6,
   "metadata": {},
   "outputs": [],
   "source": [
    "feature_importance = np.abs(param_vector)\n",
    "feature_importance = feature_importance/np.sum(feature_importance)"
   ]
  },
  {
   "cell_type": "code",
   "execution_count": 7,
   "metadata": {},
   "outputs": [
    {
     "data": {
      "image/png": "[encoded data removed]",
      "text/plain": [
       "<Figure size 800x600 with 1 Axes>"
      ]
     },
     "metadata": {},
     "output_type": "display_data"
    }
   ],
   "source": [
    "plt.figure(figsize=(8, 6))\n",
    "plt.bar(data.columns[:-1], feature_importance)\n",
    "plt.xlabel(\"Feature\")\n",
    "plt.ylabel(\"Importance\")\n",
    "plt.title(\"Neural Net\")\n",
    "plt.savefig(\"figs/neural_net.png\", format='png')\n",
    "plt.show()"
   ]
  }
 ],
 "metadata": {
  "kernelspec": {
   "display_name": "Python 3",
   "language": "python",
   "name": "python3"
  },
  "language_info": {
   "codemirror_mode": {
    "name": "ipython",
    "version": 3
   },
   "file_extension": ".py",
   "mimetype": "text/x-python",
   "name": "python",
   "nbconvert_exporter": "python",
   "pygments_lexer": "ipython3",
   "version": "3.10.11"
  }
 },
 "nbformat": 4,
 "nbformat_minor": 2
}
